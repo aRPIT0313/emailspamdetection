{
 "cells": [
  {
   "cell_type": "code",
   "execution_count": 505,
   "id": "40c7240d",
   "metadata": {},
   "outputs": [],
   "source": [
    "import pandas as pd\n",
    "import numpy as np\n",
    "import matplotlib.pyplot as pit\n",
    "import nltk\n",
    "import seaborn as sb"
   ]
  },
  {
   "cell_type": "code",
   "execution_count": 506,
   "id": "1c088758",
   "metadata": {},
   "outputs": [
    {
     "name": "stdout",
     "output_type": "stream",
     "text": [
      "Requirement already satisfied: nltk in c:\\users\\dell\\anaconda3\\lib\\site-packages (3.8.1)\n",
      "Requirement already satisfied: click in c:\\users\\dell\\anaconda3\\lib\\site-packages (from nltk) (8.0.4)\n",
      "Requirement already satisfied: joblib in c:\\users\\dell\\anaconda3\\lib\\site-packages (from nltk) (1.2.0)\n",
      "Requirement already satisfied: regex>=2021.8.3 in c:\\users\\dell\\anaconda3\\lib\\site-packages (from nltk) (2022.7.9)\n",
      "Requirement already satisfied: tqdm in c:\\users\\dell\\anaconda3\\lib\\site-packages (from nltk) (4.65.0)\n",
      "Requirement already satisfied: colorama in c:\\users\\dell\\anaconda3\\lib\\site-packages (from click->nltk) (0.4.6)\n"
     ]
    }
   ],
   "source": [
    "!pip install nltk"
   ]
  },
  {
   "cell_type": "code",
   "execution_count": 507,
   "id": "5aecf928",
   "metadata": {},
   "outputs": [
    {
     "name": "stdout",
     "output_type": "stream",
     "text": [
      "Requirement already satisfied: wordcloud in c:\\users\\dell\\anaconda3\\lib\\site-packages (1.9.2)\n",
      "Requirement already satisfied: numpy>=1.6.1 in c:\\users\\dell\\anaconda3\\lib\\site-packages (from wordcloud) (1.24.3)\n",
      "Requirement already satisfied: pillow in c:\\users\\dell\\anaconda3\\lib\\site-packages (from wordcloud) (9.4.0)\n",
      "Requirement already satisfied: matplotlib in c:\\users\\dell\\anaconda3\\lib\\site-packages (from wordcloud) (3.7.2)\n",
      "Requirement already satisfied: contourpy>=1.0.1 in c:\\users\\dell\\anaconda3\\lib\\site-packages (from matplotlib->wordcloud) (1.0.5)\n",
      "Requirement already satisfied: cycler>=0.10 in c:\\users\\dell\\anaconda3\\lib\\site-packages (from matplotlib->wordcloud) (0.11.0)\n",
      "Requirement already satisfied: fonttools>=4.22.0 in c:\\users\\dell\\anaconda3\\lib\\site-packages (from matplotlib->wordcloud) (4.25.0)\n",
      "Requirement already satisfied: kiwisolver>=1.0.1 in c:\\users\\dell\\anaconda3\\lib\\site-packages (from matplotlib->wordcloud) (1.4.4)\n",
      "Requirement already satisfied: packaging>=20.0 in c:\\users\\dell\\anaconda3\\lib\\site-packages (from matplotlib->wordcloud) (23.1)\n",
      "Requirement already satisfied: pyparsing<3.1,>=2.3.1 in c:\\users\\dell\\anaconda3\\lib\\site-packages (from matplotlib->wordcloud) (3.0.9)\n",
      "Requirement already satisfied: python-dateutil>=2.7 in c:\\users\\dell\\anaconda3\\lib\\site-packages (from matplotlib->wordcloud) (2.8.2)\n",
      "Requirement already satisfied: six>=1.5 in c:\\users\\dell\\anaconda3\\lib\\site-packages (from python-dateutil>=2.7->matplotlib->wordcloud) (1.16.0)\n"
     ]
    }
   ],
   "source": [
    "!pip install wordcloud"
   ]
  },
  {
   "cell_type": "code",
   "execution_count": 508,
   "id": "301aeaf1",
   "metadata": {},
   "outputs": [
    {
     "name": "stderr",
     "output_type": "stream",
     "text": [
      "[nltk_data] Downloading package punkt to\n",
      "[nltk_data]     C:\\Users\\DELL\\AppData\\Roaming\\nltk_data...\n",
      "[nltk_data]   Package punkt is already up-to-date!\n"
     ]
    },
    {
     "data": {
      "text/plain": [
       "True"
      ]
     },
     "execution_count": 508,
     "metadata": {},
     "output_type": "execute_result"
    }
   ],
   "source": [
    "nltk.download('punkt')"
   ]
  },
  {
   "cell_type": "code",
   "execution_count": 509,
   "id": "2965a9d4",
   "metadata": {},
   "outputs": [],
   "source": [
    "f = pd.read_csv(\"mail.csv\", encoding='ISO-8859-1')"
   ]
  },
  {
   "cell_type": "code",
   "execution_count": 510,
   "id": "da66ccb0",
   "metadata": {},
   "outputs": [
    {
     "data": {
      "text/html": [
       "<div>\n",
       "<style scoped>\n",
       "    .dataframe tbody tr th:only-of-type {\n",
       "        vertical-align: middle;\n",
       "    }\n",
       "\n",
       "    .dataframe tbody tr th {\n",
       "        vertical-align: top;\n",
       "    }\n",
       "\n",
       "    .dataframe thead th {\n",
       "        text-align: right;\n",
       "    }\n",
       "</style>\n",
       "<table border=\"1\" class=\"dataframe\">\n",
       "  <thead>\n",
       "    <tr style=\"text-align: right;\">\n",
       "      <th></th>\n",
       "      <th>v1</th>\n",
       "      <th>v2</th>\n",
       "      <th>Unnamed: 2</th>\n",
       "      <th>Unnamed: 3</th>\n",
       "      <th>Unnamed: 4</th>\n",
       "    </tr>\n",
       "  </thead>\n",
       "  <tbody>\n",
       "    <tr>\n",
       "      <th>799</th>\n",
       "      <td>ham</td>\n",
       "      <td>Hi Dear Call me its urgnt. I don't know whats ...</td>\n",
       "      <td>NaN</td>\n",
       "      <td>NaN</td>\n",
       "      <td>NaN</td>\n",
       "    </tr>\n",
       "    <tr>\n",
       "      <th>1981</th>\n",
       "      <td>spam</td>\n",
       "      <td>Your mailbox is feeling lonely. Subscribe to o...</td>\n",
       "      <td>NaN</td>\n",
       "      <td>NaN</td>\n",
       "      <td>NaN</td>\n",
       "    </tr>\n",
       "    <tr>\n",
       "      <th>1807</th>\n",
       "      <td>spam</td>\n",
       "      <td>Click to claim your $1,000 gift card instantly.</td>\n",
       "      <td>NaN</td>\n",
       "      <td>NaN</td>\n",
       "      <td>NaN</td>\n",
       "    </tr>\n",
       "    <tr>\n",
       "      <th>1276</th>\n",
       "      <td>ham</td>\n",
       "      <td>Hi. Hope you had a good day. Have a better night.</td>\n",
       "      <td>NaN</td>\n",
       "      <td>NaN</td>\n",
       "      <td>NaN</td>\n",
       "    </tr>\n",
       "    <tr>\n",
       "      <th>1869</th>\n",
       "      <td>spam</td>\n",
       "      <td>Start a 'Mermaid Tail Knitting Circle' for $59...</td>\n",
       "      <td>NaN</td>\n",
       "      <td>NaN</td>\n",
       "      <td>NaN</td>\n",
       "    </tr>\n",
       "    <tr>\n",
       "      <th>1634</th>\n",
       "      <td>spam</td>\n",
       "      <td>Limited stock available: Call to purchase the ...</td>\n",
       "      <td>NaN</td>\n",
       "      <td>NaN</td>\n",
       "      <td>NaN</td>\n",
       "    </tr>\n",
       "  </tbody>\n",
       "</table>\n",
       "</div>"
      ],
      "text/plain": [
       "        v1                                                 v2 Unnamed: 2  \\\n",
       "799    ham  Hi Dear Call me its urgnt. I don't know whats ...        NaN   \n",
       "1981  spam  Your mailbox is feeling lonely. Subscribe to o...        NaN   \n",
       "1807  spam    Click to claim your $1,000 gift card instantly.        NaN   \n",
       "1276   ham  Hi. Hope you had a good day. Have a better night.        NaN   \n",
       "1869  spam  Start a 'Mermaid Tail Knitting Circle' for $59...        NaN   \n",
       "1634  spam  Limited stock available: Call to purchase the ...        NaN   \n",
       "\n",
       "     Unnamed: 3 Unnamed: 4  \n",
       "799         NaN        NaN  \n",
       "1981        NaN        NaN  \n",
       "1807        NaN        NaN  \n",
       "1276        NaN        NaN  \n",
       "1869        NaN        NaN  \n",
       "1634        NaN        NaN  "
      ]
     },
     "execution_count": 510,
     "metadata": {},
     "output_type": "execute_result"
    }
   ],
   "source": [
    "f.sample(6)"
   ]
  },
  {
   "cell_type": "code",
   "execution_count": 511,
   "id": "430b8414",
   "metadata": {},
   "outputs": [
    {
     "data": {
      "text/plain": [
       "(2010, 5)"
      ]
     },
     "execution_count": 511,
     "metadata": {},
     "output_type": "execute_result"
    }
   ],
   "source": [
    "f.shape"
   ]
  },
  {
   "cell_type": "code",
   "execution_count": 512,
   "id": "05c6896b",
   "metadata": {},
   "outputs": [],
   "source": [
    "#cleaing,analysis,preprocessing\n"
   ]
  },
  {
   "cell_type": "code",
   "execution_count": 513,
   "id": "5e5dbc68",
   "metadata": {},
   "outputs": [
    {
     "name": "stdout",
     "output_type": "stream",
     "text": [
      "<class 'pandas.core.frame.DataFrame'>\n",
      "RangeIndex: 2010 entries, 0 to 2009\n",
      "Data columns (total 5 columns):\n",
      " #   Column      Non-Null Count  Dtype \n",
      "---  ------      --------------  ----- \n",
      " 0   v1          2010 non-null   object\n",
      " 1   v2          2010 non-null   object\n",
      " 2   Unnamed: 2  12 non-null     object\n",
      " 3   Unnamed: 3  4 non-null      object\n",
      " 4   Unnamed: 4  2 non-null      object\n",
      "dtypes: object(5)\n",
      "memory usage: 78.6+ KB\n"
     ]
    }
   ],
   "source": [
    "f.info()"
   ]
  },
  {
   "cell_type": "code",
   "execution_count": 514,
   "id": "85ff386d",
   "metadata": {},
   "outputs": [],
   "source": [
    "##f.drop(columns=['Unnamed: 2','Unnamed: 3','Unnamed: 4'],inplace=True) \n",
    "#deleteing not useful columns permanantly so used inplace =true"
   ]
  },
  {
   "cell_type": "code",
   "execution_count": 515,
   "id": "88e88f5a",
   "metadata": {},
   "outputs": [
    {
     "data": {
      "text/html": [
       "<div>\n",
       "<style scoped>\n",
       "    .dataframe tbody tr th:only-of-type {\n",
       "        vertical-align: middle;\n",
       "    }\n",
       "\n",
       "    .dataframe tbody tr th {\n",
       "        vertical-align: top;\n",
       "    }\n",
       "\n",
       "    .dataframe thead th {\n",
       "        text-align: right;\n",
       "    }\n",
       "</style>\n",
       "<table border=\"1\" class=\"dataframe\">\n",
       "  <thead>\n",
       "    <tr style=\"text-align: right;\">\n",
       "      <th></th>\n",
       "      <th>v1</th>\n",
       "      <th>v2</th>\n",
       "      <th>Unnamed: 2</th>\n",
       "      <th>Unnamed: 3</th>\n",
       "      <th>Unnamed: 4</th>\n",
       "    </tr>\n",
       "  </thead>\n",
       "  <tbody>\n",
       "    <tr>\n",
       "      <th>170</th>\n",
       "      <td>ham</td>\n",
       "      <td>I've been barred from all B and Q stores for l...</td>\n",
       "      <td>NaN</td>\n",
       "      <td>NaN</td>\n",
       "      <td>NaN</td>\n",
       "    </tr>\n",
       "    <tr>\n",
       "      <th>1029</th>\n",
       "      <td>ham</td>\n",
       "      <td>No problem with the renewal. I.ll do it right ...</td>\n",
       "      <td>NaN</td>\n",
       "      <td>NaN</td>\n",
       "      <td>NaN</td>\n",
       "    </tr>\n",
       "    <tr>\n",
       "      <th>1784</th>\n",
       "      <td>spam</td>\n",
       "      <td>Last chance to buy your winning lottery ticket...</td>\n",
       "      <td>NaN</td>\n",
       "      <td>NaN</td>\n",
       "      <td>NaN</td>\n",
       "    </tr>\n",
       "    <tr>\n",
       "      <th>1509</th>\n",
       "      <td>spam</td>\n",
       "      <td>Immediate password reset needed: Click to secu...</td>\n",
       "      <td>NaN</td>\n",
       "      <td>NaN</td>\n",
       "      <td>NaN</td>\n",
       "    </tr>\n",
       "    <tr>\n",
       "      <th>583</th>\n",
       "      <td>ham</td>\n",
       "      <td>Wow so healthy. Old airport rd lor. Cant thk o...</td>\n",
       "      <td>NaN</td>\n",
       "      <td>NaN</td>\n",
       "      <td>NaN</td>\n",
       "    </tr>\n",
       "    <tr>\n",
       "      <th>1742</th>\n",
       "      <td>spam</td>\n",
       "      <td>Your package is waiting for delivery. Click to...</td>\n",
       "      <td>NaN</td>\n",
       "      <td>NaN</td>\n",
       "      <td>NaN</td>\n",
       "    </tr>\n",
       "  </tbody>\n",
       "</table>\n",
       "</div>"
      ],
      "text/plain": [
       "        v1                                                 v2 Unnamed: 2  \\\n",
       "170    ham  I've been barred from all B and Q stores for l...        NaN   \n",
       "1029   ham  No problem with the renewal. I.ll do it right ...        NaN   \n",
       "1784  spam  Last chance to buy your winning lottery ticket...        NaN   \n",
       "1509  spam  Immediate password reset needed: Click to secu...        NaN   \n",
       "583    ham  Wow so healthy. Old airport rd lor. Cant thk o...        NaN   \n",
       "1742  spam  Your package is waiting for delivery. Click to...        NaN   \n",
       "\n",
       "     Unnamed: 3 Unnamed: 4  \n",
       "170         NaN        NaN  \n",
       "1029        NaN        NaN  \n",
       "1784        NaN        NaN  \n",
       "1509        NaN        NaN  \n",
       "583         NaN        NaN  \n",
       "1742        NaN        NaN  "
      ]
     },
     "execution_count": 515,
     "metadata": {},
     "output_type": "execute_result"
    }
   ],
   "source": [
    "f.sample(6)"
   ]
  },
  {
   "cell_type": "code",
   "execution_count": 516,
   "id": "70235275",
   "metadata": {},
   "outputs": [],
   "source": [
    "f.rename(columns={'v1':'result','v2':'mail'},inplace=True) #{} mtlb dictionary"
   ]
  },
  {
   "cell_type": "code",
   "execution_count": 517,
   "id": "d59e7166",
   "metadata": {},
   "outputs": [
    {
     "data": {
      "text/html": [
       "<div>\n",
       "<style scoped>\n",
       "    .dataframe tbody tr th:only-of-type {\n",
       "        vertical-align: middle;\n",
       "    }\n",
       "\n",
       "    .dataframe tbody tr th {\n",
       "        vertical-align: top;\n",
       "    }\n",
       "\n",
       "    .dataframe thead th {\n",
       "        text-align: right;\n",
       "    }\n",
       "</style>\n",
       "<table border=\"1\" class=\"dataframe\">\n",
       "  <thead>\n",
       "    <tr style=\"text-align: right;\">\n",
       "      <th></th>\n",
       "      <th>result</th>\n",
       "      <th>mail</th>\n",
       "      <th>Unnamed: 2</th>\n",
       "      <th>Unnamed: 3</th>\n",
       "      <th>Unnamed: 4</th>\n",
       "    </tr>\n",
       "  </thead>\n",
       "  <tbody>\n",
       "    <tr>\n",
       "      <th>1568</th>\n",
       "      <td>spam</td>\n",
       "      <td>Free trial offer: Claim a sample of our revolu...</td>\n",
       "      <td>NaN</td>\n",
       "      <td>NaN</td>\n",
       "      <td>NaN</td>\n",
       "    </tr>\n",
       "    <tr>\n",
       "      <th>644</th>\n",
       "      <td>spam</td>\n",
       "      <td>Your unique user ID is 1172. For removal send ...</td>\n",
       "      <td>NaN</td>\n",
       "      <td>NaN</td>\n",
       "      <td>NaN</td>\n",
       "    </tr>\n",
       "  </tbody>\n",
       "</table>\n",
       "</div>"
      ],
      "text/plain": [
       "     result                                               mail Unnamed: 2  \\\n",
       "1568   spam  Free trial offer: Claim a sample of our revolu...        NaN   \n",
       "644    spam  Your unique user ID is 1172. For removal send ...        NaN   \n",
       "\n",
       "     Unnamed: 3 Unnamed: 4  \n",
       "1568        NaN        NaN  \n",
       "644         NaN        NaN  "
      ]
     },
     "execution_count": 517,
     "metadata": {},
     "output_type": "execute_result"
    }
   ],
   "source": [
    "f.sample(2)"
   ]
  },
  {
   "cell_type": "code",
   "execution_count": 518,
   "id": "1ccb7976",
   "metadata": {},
   "outputs": [],
   "source": [
    "from sklearn.preprocessing import LabelEncoder\n",
    "encoder = LabelEncoder()"
   ]
  },
  {
   "cell_type": "code",
   "execution_count": 519,
   "id": "17b25a15",
   "metadata": {},
   "outputs": [],
   "source": [
    "f['result']=encoder.fit_transform(f['result']) # 1 for spam"
   ]
  },
  {
   "cell_type": "code",
   "execution_count": 520,
   "id": "b8009683",
   "metadata": {},
   "outputs": [
    {
     "data": {
      "text/html": [
       "<div>\n",
       "<style scoped>\n",
       "    .dataframe tbody tr th:only-of-type {\n",
       "        vertical-align: middle;\n",
       "    }\n",
       "\n",
       "    .dataframe tbody tr th {\n",
       "        vertical-align: top;\n",
       "    }\n",
       "\n",
       "    .dataframe thead th {\n",
       "        text-align: right;\n",
       "    }\n",
       "</style>\n",
       "<table border=\"1\" class=\"dataframe\">\n",
       "  <thead>\n",
       "    <tr style=\"text-align: right;\">\n",
       "      <th></th>\n",
       "      <th>result</th>\n",
       "      <th>mail</th>\n",
       "      <th>Unnamed: 2</th>\n",
       "      <th>Unnamed: 3</th>\n",
       "      <th>Unnamed: 4</th>\n",
       "    </tr>\n",
       "  </thead>\n",
       "  <tbody>\n",
       "    <tr>\n",
       "      <th>1971</th>\n",
       "      <td>1</td>\n",
       "      <td>Enhance your aura with 'Cosmic Colored Underwe...</td>\n",
       "      <td>NaN</td>\n",
       "      <td>NaN</td>\n",
       "      <td>NaN</td>\n",
       "    </tr>\n",
       "    <tr>\n",
       "      <th>1280</th>\n",
       "      <td>0</td>\n",
       "      <td>Hi babe its me thanks for coming even though i...</td>\n",
       "      <td>NaN</td>\n",
       "      <td>NaN</td>\n",
       "      <td>NaN</td>\n",
       "    </tr>\n",
       "    <tr>\n",
       "      <th>235</th>\n",
       "      <td>0</td>\n",
       "      <td>So its to be poking man everyday that they tea...</td>\n",
       "      <td>NaN</td>\n",
       "      <td>NaN</td>\n",
       "      <td>NaN</td>\n",
       "    </tr>\n",
       "    <tr>\n",
       "      <th>1497</th>\n",
       "      <td>1</td>\n",
       "      <td>Congratulations! You've won a free luxury vaca...</td>\n",
       "      <td>NaN</td>\n",
       "      <td>NaN</td>\n",
       "      <td>NaN</td>\n",
       "    </tr>\n",
       "    <tr>\n",
       "      <th>837</th>\n",
       "      <td>0</td>\n",
       "      <td>I want  &amp;lt;#&amp;gt;  rs da:)do you have it?</td>\n",
       "      <td>NaN</td>\n",
       "      <td>NaN</td>\n",
       "      <td>NaN</td>\n",
       "    </tr>\n",
       "    <tr>\n",
       "      <th>231</th>\n",
       "      <td>0</td>\n",
       "      <td>I will lick up every drop :) are you ready to ...</td>\n",
       "      <td>NaN</td>\n",
       "      <td>NaN</td>\n",
       "      <td>NaN</td>\n",
       "    </tr>\n",
       "    <tr>\n",
       "      <th>21</th>\n",
       "      <td>0</td>\n",
       "      <td>What should i eat fo lunch senor</td>\n",
       "      <td>NaN</td>\n",
       "      <td>NaN</td>\n",
       "      <td>NaN</td>\n",
       "    </tr>\n",
       "  </tbody>\n",
       "</table>\n",
       "</div>"
      ],
      "text/plain": [
       "      result                                               mail Unnamed: 2  \\\n",
       "1971       1  Enhance your aura with 'Cosmic Colored Underwe...        NaN   \n",
       "1280       0  Hi babe its me thanks for coming even though i...        NaN   \n",
       "235        0  So its to be poking man everyday that they tea...        NaN   \n",
       "1497       1  Congratulations! You've won a free luxury vaca...        NaN   \n",
       "837        0          I want  &lt;#&gt;  rs da:)do you have it?        NaN   \n",
       "231        0  I will lick up every drop :) are you ready to ...        NaN   \n",
       "21         0                   What should i eat fo lunch senor        NaN   \n",
       "\n",
       "     Unnamed: 3 Unnamed: 4  \n",
       "1971        NaN        NaN  \n",
       "1280        NaN        NaN  \n",
       "235         NaN        NaN  \n",
       "1497        NaN        NaN  \n",
       "837         NaN        NaN  \n",
       "231         NaN        NaN  \n",
       "21          NaN        NaN  "
      ]
     },
     "execution_count": 520,
     "metadata": {},
     "output_type": "execute_result"
    }
   ],
   "source": [
    "f.sample(7)"
   ]
  },
  {
   "cell_type": "code",
   "execution_count": 521,
   "id": "0b8b0992",
   "metadata": {},
   "outputs": [
    {
     "data": {
      "text/plain": [
       "result           0\n",
       "mail             0\n",
       "Unnamed: 2    1998\n",
       "Unnamed: 3    2006\n",
       "Unnamed: 4    2008\n",
       "dtype: int64"
      ]
     },
     "execution_count": 521,
     "metadata": {},
     "output_type": "execute_result"
    }
   ],
   "source": [
    "f.isnull().sum() # to find total empty slots if any"
   ]
  },
  {
   "cell_type": "code",
   "execution_count": 522,
   "id": "d2c9de16",
   "metadata": {},
   "outputs": [
    {
     "data": {
      "text/plain": [
       "223"
      ]
     },
     "execution_count": 522,
     "metadata": {},
     "output_type": "execute_result"
    }
   ],
   "source": [
    "f.duplicated().sum() # to find number of duplicate values"
   ]
  },
  {
   "cell_type": "code",
   "execution_count": 523,
   "id": "e6870654",
   "metadata": {},
   "outputs": [],
   "source": [
    "f = f.drop_duplicates(keep='first') # keep first mtlb 1st occurenece of duplicate value will be kept rest delete\n",
    "# if keep last then last occcurence will be kept rest delete"
   ]
  },
  {
   "cell_type": "code",
   "execution_count": 524,
   "id": "70763fd9",
   "metadata": {},
   "outputs": [
    {
     "data": {
      "text/plain": [
       "0"
      ]
     },
     "execution_count": 524,
     "metadata": {},
     "output_type": "execute_result"
    }
   ],
   "source": [
    "f.duplicated().sum()"
   ]
  },
  {
   "cell_type": "code",
   "execution_count": 525,
   "id": "021878e9",
   "metadata": {},
   "outputs": [
    {
     "data": {
      "text/plain": [
       "(1787, 5)"
      ]
     },
     "execution_count": 525,
     "metadata": {},
     "output_type": "execute_result"
    }
   ],
   "source": [
    "f.shape"
   ]
  },
  {
   "cell_type": "code",
   "execution_count": 526,
   "id": "4ad653aa",
   "metadata": {},
   "outputs": [],
   "source": [
    "# f is dataframe , what is dataframe?\n"
   ]
  },
  {
   "cell_type": "code",
   "execution_count": 527,
   "id": "3dd5d554",
   "metadata": {},
   "outputs": [
    {
     "data": {
      "text/plain": [
       "result\n",
       "0    1245\n",
       "1     542\n",
       "Name: count, dtype: int64"
      ]
     },
     "execution_count": 527,
     "metadata": {},
     "output_type": "execute_result"
    }
   ],
   "source": [
    "f['result'].value_counts() # to count total number of spam and ham mails"
   ]
  },
  {
   "cell_type": "code",
   "execution_count": 528,
   "id": "210510d5",
   "metadata": {},
   "outputs": [
    {
     "data": {
      "text/plain": [
       "([<matplotlib.patches.Wedge at 0x1a80713cf90>,\n",
       "  <matplotlib.patches.Wedge at 0x1a80715f6d0>],\n",
       " [Text(-0.6372985841120169, 0.8965771102860137, 'ham'),\n",
       "  Text(0.6372985841120163, -0.8965771102860141, 'spam')],\n",
       " [Text(-0.3476174095156455, 0.4890420601560074, '69.67'),\n",
       "  Text(0.34761740951564524, -0.4890420601560076, '30.33')])"
      ]
     },
     "execution_count": 528,
     "metadata": {},
     "output_type": "execute_result"
    },
    {
     "data": {
      "image/png": "[encoded data removed]",
      "text/plain": [
       "<Figure size 640x480 with 1 Axes>"
      ]
     },
     "metadata": {},
     "output_type": "display_data"
    }
   ],
   "source": [
    "pit.pie(f['result'].value_counts(),labels=['ham','spam'],autopct=\"%0.2f\") #0.2f means upto 2 decimal"
   ]
  },
  {
   "cell_type": "code",
   "execution_count": 529,
   "id": "4626d234",
   "metadata": {},
   "outputs": [],
   "source": [
    "f['characters']=f['mail'].apply(len) # no of character in each mail"
   ]
  },
  {
   "cell_type": "code",
   "execution_count": 530,
   "id": "8073af45",
   "metadata": {},
   "outputs": [
    {
     "data": {
      "text/html": [
       "<div>\n",
       "<style scoped>\n",
       "    .dataframe tbody tr th:only-of-type {\n",
       "        vertical-align: middle;\n",
       "    }\n",
       "\n",
       "    .dataframe tbody tr th {\n",
       "        vertical-align: top;\n",
       "    }\n",
       "\n",
       "    .dataframe thead th {\n",
       "        text-align: right;\n",
       "    }\n",
       "</style>\n",
       "<table border=\"1\" class=\"dataframe\">\n",
       "  <thead>\n",
       "    <tr style=\"text-align: right;\">\n",
       "      <th></th>\n",
       "      <th>result</th>\n",
       "      <th>mail</th>\n",
       "      <th>Unnamed: 2</th>\n",
       "      <th>Unnamed: 3</th>\n",
       "      <th>Unnamed: 4</th>\n",
       "      <th>characters</th>\n",
       "    </tr>\n",
       "  </thead>\n",
       "  <tbody>\n",
       "    <tr>\n",
       "      <th>346</th>\n",
       "      <td>0</td>\n",
       "      <td>But i'm surprised she still can guess right lo...</td>\n",
       "      <td>NaN</td>\n",
       "      <td>NaN</td>\n",
       "      <td>NaN</td>\n",
       "      <td>50</td>\n",
       "    </tr>\n",
       "    <tr>\n",
       "      <th>423</th>\n",
       "      <td>0</td>\n",
       "      <td>Ok can...</td>\n",
       "      <td>NaN</td>\n",
       "      <td>NaN</td>\n",
       "      <td>NaN</td>\n",
       "      <td>9</td>\n",
       "    </tr>\n",
       "    <tr>\n",
       "      <th>1030</th>\n",
       "      <td>0</td>\n",
       "      <td>Idk. I'm sitting here in a stop and shop parki...</td>\n",
       "      <td>NaN</td>\n",
       "      <td>NaN</td>\n",
       "      <td>NaN</td>\n",
       "      <td>184</td>\n",
       "    </tr>\n",
       "    <tr>\n",
       "      <th>1389</th>\n",
       "      <td>0</td>\n",
       "      <td>It?ø???ús reassuring, in this crazy world.</td>\n",
       "      <td>NaN</td>\n",
       "      <td>NaN</td>\n",
       "      <td>NaN</td>\n",
       "      <td>43</td>\n",
       "    </tr>\n",
       "    <tr>\n",
       "      <th>190</th>\n",
       "      <td>1</td>\n",
       "      <td>Hard LIVE 121 chat just 60p/min. Choose your g...</td>\n",
       "      <td>NaN</td>\n",
       "      <td>NaN</td>\n",
       "      <td>NaN</td>\n",
       "      <td>145</td>\n",
       "    </tr>\n",
       "    <tr>\n",
       "      <th>234</th>\n",
       "      <td>0</td>\n",
       "      <td>I av a new number,  . Wil u only use this one,ta.</td>\n",
       "      <td>NaN</td>\n",
       "      <td>NaN</td>\n",
       "      <td>NaN</td>\n",
       "      <td>49</td>\n",
       "    </tr>\n",
       "    <tr>\n",
       "      <th>1950</th>\n",
       "      <td>1</td>\n",
       "      <td>Join the 'Secret Society of Llama Whisperers' ...</td>\n",
       "      <td>NaN</td>\n",
       "      <td>NaN</td>\n",
       "      <td>NaN</td>\n",
       "      <td>129</td>\n",
       "    </tr>\n",
       "  </tbody>\n",
       "</table>\n",
       "</div>"
      ],
      "text/plain": [
       "      result                                               mail Unnamed: 2  \\\n",
       "346        0  But i'm surprised she still can guess right lo...        NaN   \n",
       "423        0                                          Ok can...        NaN   \n",
       "1030       0  Idk. I'm sitting here in a stop and shop parki...        NaN   \n",
       "1389       0        It?ø???ús reassuring, in this crazy world.        NaN   \n",
       "190        1  Hard LIVE 121 chat just 60p/min. Choose your g...        NaN   \n",
       "234        0  I av a new number,  . Wil u only use this one,ta.        NaN   \n",
       "1950       1  Join the 'Secret Society of Llama Whisperers' ...        NaN   \n",
       "\n",
       "     Unnamed: 3 Unnamed: 4  characters  \n",
       "346         NaN        NaN          50  \n",
       "423         NaN        NaN           9  \n",
       "1030        NaN        NaN         184  \n",
       "1389        NaN        NaN          43  \n",
       "190         NaN        NaN         145  \n",
       "234         NaN        NaN          49  \n",
       "1950        NaN        NaN         129  "
      ]
     },
     "execution_count": 530,
     "metadata": {},
     "output_type": "execute_result"
    }
   ],
   "source": [
    "f.sample(7)"
   ]
  },
  {
   "cell_type": "code",
   "execution_count": 531,
   "id": "c8f85c8c",
   "metadata": {},
   "outputs": [],
   "source": [
    "##f.drop(columns=['no.of characters','no.of.characters','no_of_characters'],inplace=True) "
   ]
  },
  {
   "cell_type": "code",
   "execution_count": 532,
   "id": "2a329c50",
   "metadata": {},
   "outputs": [
    {
     "data": {
      "text/html": [
       "<div>\n",
       "<style scoped>\n",
       "    .dataframe tbody tr th:only-of-type {\n",
       "        vertical-align: middle;\n",
       "    }\n",
       "\n",
       "    .dataframe tbody tr th {\n",
       "        vertical-align: top;\n",
       "    }\n",
       "\n",
       "    .dataframe thead th {\n",
       "        text-align: right;\n",
       "    }\n",
       "</style>\n",
       "<table border=\"1\" class=\"dataframe\">\n",
       "  <thead>\n",
       "    <tr style=\"text-align: right;\">\n",
       "      <th></th>\n",
       "      <th>result</th>\n",
       "      <th>mail</th>\n",
       "      <th>Unnamed: 2</th>\n",
       "      <th>Unnamed: 3</th>\n",
       "      <th>Unnamed: 4</th>\n",
       "      <th>characters</th>\n",
       "    </tr>\n",
       "  </thead>\n",
       "  <tbody>\n",
       "    <tr>\n",
       "      <th>278</th>\n",
       "      <td>0</td>\n",
       "      <td>A cute thought for friendship: \\Its not necess...</td>\n",
       "      <td>but watever u shared should be true\\\"....\"</td>\n",
       "      <td>NaN</td>\n",
       "      <td>NaN</td>\n",
       "      <td>90</td>\n",
       "    </tr>\n",
       "    <tr>\n",
       "      <th>974</th>\n",
       "      <td>0</td>\n",
       "      <td>But i'm really really broke oh. No amount is t...</td>\n",
       "      <td>NaN</td>\n",
       "      <td>NaN</td>\n",
       "      <td>NaN</td>\n",
       "      <td>71</td>\n",
       "    </tr>\n",
       "    <tr>\n",
       "      <th>336</th>\n",
       "      <td>1</td>\n",
       "      <td>This message is free. Welcome to the new &amp; imp...</td>\n",
       "      <td>NaN</td>\n",
       "      <td>NaN</td>\n",
       "      <td>NaN</td>\n",
       "      <td>134</td>\n",
       "    </tr>\n",
       "    <tr>\n",
       "      <th>168</th>\n",
       "      <td>0</td>\n",
       "      <td>Ok. But i finish at 6.</td>\n",
       "      <td>NaN</td>\n",
       "      <td>NaN</td>\n",
       "      <td>NaN</td>\n",
       "      <td>22</td>\n",
       "    </tr>\n",
       "    <tr>\n",
       "      <th>826</th>\n",
       "      <td>0</td>\n",
       "      <td>I am in bus on the way to calicut</td>\n",
       "      <td>NaN</td>\n",
       "      <td>NaN</td>\n",
       "      <td>NaN</td>\n",
       "      <td>33</td>\n",
       "    </tr>\n",
       "    <tr>\n",
       "      <th>782</th>\n",
       "      <td>1</td>\n",
       "      <td>Warner Village 83118 C Colin Farrell in SWAT t...</td>\n",
       "      <td>NaN</td>\n",
       "      <td>NaN</td>\n",
       "      <td>NaN</td>\n",
       "      <td>181</td>\n",
       "    </tr>\n",
       "    <tr>\n",
       "      <th>1460</th>\n",
       "      <td>1</td>\n",
       "      <td>Discover the secret to success. Order now and ...</td>\n",
       "      <td>NaN</td>\n",
       "      <td>NaN</td>\n",
       "      <td>NaN</td>\n",
       "      <td>63</td>\n",
       "    </tr>\n",
       "  </tbody>\n",
       "</table>\n",
       "</div>"
      ],
      "text/plain": [
       "      result                                               mail  \\\n",
       "278        0  A cute thought for friendship: \\Its not necess...   \n",
       "974        0  But i'm really really broke oh. No amount is t...   \n",
       "336        1  This message is free. Welcome to the new & imp...   \n",
       "168        0                             Ok. But i finish at 6.   \n",
       "826        0                  I am in bus on the way to calicut   \n",
       "782        1  Warner Village 83118 C Colin Farrell in SWAT t...   \n",
       "1460       1  Discover the secret to success. Order now and ...   \n",
       "\n",
       "                                       Unnamed: 2 Unnamed: 3 Unnamed: 4  \\\n",
       "278    but watever u shared should be true\\\"....\"        NaN        NaN   \n",
       "974                                           NaN        NaN        NaN   \n",
       "336                                           NaN        NaN        NaN   \n",
       "168                                           NaN        NaN        NaN   \n",
       "826                                           NaN        NaN        NaN   \n",
       "782                                           NaN        NaN        NaN   \n",
       "1460                                          NaN        NaN        NaN   \n",
       "\n",
       "      characters  \n",
       "278           90  \n",
       "974           71  \n",
       "336          134  \n",
       "168           22  \n",
       "826           33  \n",
       "782          181  \n",
       "1460          63  "
      ]
     },
     "execution_count": 532,
     "metadata": {},
     "output_type": "execute_result"
    }
   ],
   "source": [
    "f.sample(7) #character = alphabet"
   ]
  },
  {
   "cell_type": "code",
   "execution_count": 533,
   "id": "86ef35c1",
   "metadata": {},
   "outputs": [],
   "source": [
    "f['words'] = f['mail'].apply(lambda x:nltk.word_tokenize(x)) #nltk se words"
   ]
  },
  {
   "cell_type": "code",
   "execution_count": 534,
   "id": "eaeb5127",
   "metadata": {},
   "outputs": [
    {
     "data": {
      "text/html": [
       "<div>\n",
       "<style scoped>\n",
       "    .dataframe tbody tr th:only-of-type {\n",
       "        vertical-align: middle;\n",
       "    }\n",
       "\n",
       "    .dataframe tbody tr th {\n",
       "        vertical-align: top;\n",
       "    }\n",
       "\n",
       "    .dataframe thead th {\n",
       "        text-align: right;\n",
       "    }\n",
       "</style>\n",
       "<table border=\"1\" class=\"dataframe\">\n",
       "  <thead>\n",
       "    <tr style=\"text-align: right;\">\n",
       "      <th></th>\n",
       "      <th>result</th>\n",
       "      <th>mail</th>\n",
       "      <th>Unnamed: 2</th>\n",
       "      <th>Unnamed: 3</th>\n",
       "      <th>Unnamed: 4</th>\n",
       "      <th>characters</th>\n",
       "      <th>words</th>\n",
       "    </tr>\n",
       "  </thead>\n",
       "  <tbody>\n",
       "    <tr>\n",
       "      <th>1755</th>\n",
       "      <td>1</td>\n",
       "      <td>Your car warranty is expiring. Call us now to ...</td>\n",
       "      <td>NaN</td>\n",
       "      <td>NaN</td>\n",
       "      <td>NaN</td>\n",
       "      <td>67</td>\n",
       "      <td>[Your, car, warranty, is, expiring, ., Call, u...</td>\n",
       "    </tr>\n",
       "    <tr>\n",
       "      <th>782</th>\n",
       "      <td>1</td>\n",
       "      <td>Warner Village 83118 C Colin Farrell in SWAT t...</td>\n",
       "      <td>NaN</td>\n",
       "      <td>NaN</td>\n",
       "      <td>NaN</td>\n",
       "      <td>181</td>\n",
       "      <td>[Warner, Village, 83118, C, Colin, Farrell, in...</td>\n",
       "    </tr>\n",
       "    <tr>\n",
       "      <th>1188</th>\n",
       "      <td>0</td>\n",
       "      <td>yeah, that's what I was thinking</td>\n",
       "      <td>NaN</td>\n",
       "      <td>NaN</td>\n",
       "      <td>NaN</td>\n",
       "      <td>32</td>\n",
       "      <td>[yeah, ,, that, 's, what, I, was, thinking]</td>\n",
       "    </tr>\n",
       "  </tbody>\n",
       "</table>\n",
       "</div>"
      ],
      "text/plain": [
       "      result                                               mail Unnamed: 2  \\\n",
       "1755       1  Your car warranty is expiring. Call us now to ...        NaN   \n",
       "782        1  Warner Village 83118 C Colin Farrell in SWAT t...        NaN   \n",
       "1188       0                   yeah, that's what I was thinking        NaN   \n",
       "\n",
       "     Unnamed: 3 Unnamed: 4  characters  \\\n",
       "1755        NaN        NaN          67   \n",
       "782         NaN        NaN         181   \n",
       "1188        NaN        NaN          32   \n",
       "\n",
       "                                                  words  \n",
       "1755  [Your, car, warranty, is, expiring, ., Call, u...  \n",
       "782   [Warner, Village, 83118, C, Colin, Farrell, in...  \n",
       "1188        [yeah, ,, that, 's, what, I, was, thinking]  "
      ]
     },
     "execution_count": 534,
     "metadata": {},
     "output_type": "execute_result"
    }
   ],
   "source": [
    "f.sample(3)"
   ]
  },
  {
   "cell_type": "code",
   "execution_count": 535,
   "id": "6de7d704",
   "metadata": {},
   "outputs": [],
   "source": [
    "f['No.'] = f['mail'].apply(lambda x:len(nltk.word_tokenize(x))) #no. of words\n",
    "f['sentence'] = f['mail'].apply(lambda x:nltk.sent_tokenize(x))# senctences\n",
    "f['no.'] = f['mail'].apply(lambda x:len(nltk.sent_tokenize(x)))# no. of sentences"
   ]
  },
  {
   "cell_type": "code",
   "execution_count": 536,
   "id": "91b7c515",
   "metadata": {},
   "outputs": [
    {
     "data": {
      "text/html": [
       "<div>\n",
       "<style scoped>\n",
       "    .dataframe tbody tr th:only-of-type {\n",
       "        vertical-align: middle;\n",
       "    }\n",
       "\n",
       "    .dataframe tbody tr th {\n",
       "        vertical-align: top;\n",
       "    }\n",
       "\n",
       "    .dataframe thead th {\n",
       "        text-align: right;\n",
       "    }\n",
       "</style>\n",
       "<table border=\"1\" class=\"dataframe\">\n",
       "  <thead>\n",
       "    <tr style=\"text-align: right;\">\n",
       "      <th></th>\n",
       "      <th>result</th>\n",
       "      <th>mail</th>\n",
       "      <th>Unnamed: 2</th>\n",
       "      <th>Unnamed: 3</th>\n",
       "      <th>Unnamed: 4</th>\n",
       "      <th>characters</th>\n",
       "      <th>words</th>\n",
       "      <th>No.</th>\n",
       "      <th>sentence</th>\n",
       "      <th>no.</th>\n",
       "    </tr>\n",
       "  </thead>\n",
       "  <tbody>\n",
       "    <tr>\n",
       "      <th>1458</th>\n",
       "      <td>1</td>\n",
       "      <td>Computer security alert: Call tech support for...</td>\n",
       "      <td>NaN</td>\n",
       "      <td>NaN</td>\n",
       "      <td>NaN</td>\n",
       "      <td>58</td>\n",
       "      <td>[Computer, security, alert, :, Call, tech, sup...</td>\n",
       "      <td>10</td>\n",
       "      <td>[Computer security alert: Call tech support fo...</td>\n",
       "      <td>1</td>\n",
       "    </tr>\n",
       "    <tr>\n",
       "      <th>1294</th>\n",
       "      <td>0</td>\n",
       "      <td>My slave! I want you to take 2 or 3 pictures o...</td>\n",
       "      <td>NaN</td>\n",
       "      <td>NaN</td>\n",
       "      <td>NaN</td>\n",
       "      <td>112</td>\n",
       "      <td>[My, slave, !, I, want, you, to, take, 2, or, ...</td>\n",
       "      <td>26</td>\n",
       "      <td>[My slave!, I want you to take 2 or 3 pictures...</td>\n",
       "      <td>3</td>\n",
       "    </tr>\n",
       "    <tr>\n",
       "      <th>1719</th>\n",
       "      <td>1</td>\n",
       "      <td>Immediate action required: Click to reset your...</td>\n",
       "      <td>NaN</td>\n",
       "      <td>NaN</td>\n",
       "      <td>NaN</td>\n",
       "      <td>80</td>\n",
       "      <td>[Immediate, action, required, :, Click, to, re...</td>\n",
       "      <td>14</td>\n",
       "      <td>[Immediate action required: Click to reset you...</td>\n",
       "      <td>1</td>\n",
       "    </tr>\n",
       "  </tbody>\n",
       "</table>\n",
       "</div>"
      ],
      "text/plain": [
       "      result                                               mail Unnamed: 2  \\\n",
       "1458       1  Computer security alert: Call tech support for...        NaN   \n",
       "1294       0  My slave! I want you to take 2 or 3 pictures o...        NaN   \n",
       "1719       1  Immediate action required: Click to reset your...        NaN   \n",
       "\n",
       "     Unnamed: 3 Unnamed: 4  characters  \\\n",
       "1458        NaN        NaN          58   \n",
       "1294        NaN        NaN         112   \n",
       "1719        NaN        NaN          80   \n",
       "\n",
       "                                                  words  No.  \\\n",
       "1458  [Computer, security, alert, :, Call, tech, sup...   10   \n",
       "1294  [My, slave, !, I, want, you, to, take, 2, or, ...   26   \n",
       "1719  [Immediate, action, required, :, Click, to, re...   14   \n",
       "\n",
       "                                               sentence  no.  \n",
       "1458  [Computer security alert: Call tech support fo...    1  \n",
       "1294  [My slave!, I want you to take 2 or 3 pictures...    3  \n",
       "1719  [Immediate action required: Click to reset you...    1  "
      ]
     },
     "execution_count": 536,
     "metadata": {},
     "output_type": "execute_result"
    }
   ],
   "source": [
    "f.sample(3)"
   ]
  },
  {
   "cell_type": "code",
   "execution_count": 537,
   "id": "c247228a",
   "metadata": {},
   "outputs": [
    {
     "data": {
      "text/html": [
       "<div>\n",
       "<style scoped>\n",
       "    .dataframe tbody tr th:only-of-type {\n",
       "        vertical-align: middle;\n",
       "    }\n",
       "\n",
       "    .dataframe tbody tr th {\n",
       "        vertical-align: top;\n",
       "    }\n",
       "\n",
       "    .dataframe thead th {\n",
       "        text-align: right;\n",
       "    }\n",
       "</style>\n",
       "<table border=\"1\" class=\"dataframe\">\n",
       "  <thead>\n",
       "    <tr style=\"text-align: right;\">\n",
       "      <th></th>\n",
       "      <th>characters</th>\n",
       "      <th>No.</th>\n",
       "      <th>no.</th>\n",
       "    </tr>\n",
       "  </thead>\n",
       "  <tbody>\n",
       "    <tr>\n",
       "      <th>count</th>\n",
       "      <td>1787.000000</td>\n",
       "      <td>1787.000000</td>\n",
       "      <td>1787.000000</td>\n",
       "    </tr>\n",
       "    <tr>\n",
       "      <th>mean</th>\n",
       "      <td>80.396754</td>\n",
       "      <td>18.283716</td>\n",
       "      <td>1.938444</td>\n",
       "    </tr>\n",
       "    <tr>\n",
       "      <th>std</th>\n",
       "      <td>51.816714</td>\n",
       "      <td>11.753133</td>\n",
       "      <td>1.308348</td>\n",
       "    </tr>\n",
       "    <tr>\n",
       "      <th>min</th>\n",
       "      <td>2.000000</td>\n",
       "      <td>1.000000</td>\n",
       "      <td>1.000000</td>\n",
       "    </tr>\n",
       "    <tr>\n",
       "      <th>25%</th>\n",
       "      <td>40.000000</td>\n",
       "      <td>10.000000</td>\n",
       "      <td>1.000000</td>\n",
       "    </tr>\n",
       "    <tr>\n",
       "      <th>50%</th>\n",
       "      <td>66.000000</td>\n",
       "      <td>15.000000</td>\n",
       "      <td>2.000000</td>\n",
       "    </tr>\n",
       "    <tr>\n",
       "      <th>75%</th>\n",
       "      <td>118.000000</td>\n",
       "      <td>24.000000</td>\n",
       "      <td>2.000000</td>\n",
       "    </tr>\n",
       "    <tr>\n",
       "      <th>max</th>\n",
       "      <td>461.000000</td>\n",
       "      <td>118.000000</td>\n",
       "      <td>14.000000</td>\n",
       "    </tr>\n",
       "  </tbody>\n",
       "</table>\n",
       "</div>"
      ],
      "text/plain": [
       "        characters          No.          no.\n",
       "count  1787.000000  1787.000000  1787.000000\n",
       "mean     80.396754    18.283716     1.938444\n",
       "std      51.816714    11.753133     1.308348\n",
       "min       2.000000     1.000000     1.000000\n",
       "25%      40.000000    10.000000     1.000000\n",
       "50%      66.000000    15.000000     2.000000\n",
       "75%     118.000000    24.000000     2.000000\n",
       "max     461.000000   118.000000    14.000000"
      ]
     },
     "execution_count": 537,
     "metadata": {},
     "output_type": "execute_result"
    }
   ],
   "source": [
    "f[['characters','No.','no.']].describe()  # [] list"
   ]
  },
  {
   "cell_type": "code",
   "execution_count": 538,
   "id": "9c69620b",
   "metadata": {},
   "outputs": [
    {
     "data": {
      "text/html": [
       "<div>\n",
       "<style scoped>\n",
       "    .dataframe tbody tr th:only-of-type {\n",
       "        vertical-align: middle;\n",
       "    }\n",
       "\n",
       "    .dataframe tbody tr th {\n",
       "        vertical-align: top;\n",
       "    }\n",
       "\n",
       "    .dataframe thead th {\n",
       "        text-align: right;\n",
       "    }\n",
       "</style>\n",
       "<table border=\"1\" class=\"dataframe\">\n",
       "  <thead>\n",
       "    <tr style=\"text-align: right;\">\n",
       "      <th></th>\n",
       "      <th>characters</th>\n",
       "      <th>No.</th>\n",
       "      <th>no.</th>\n",
       "    </tr>\n",
       "  </thead>\n",
       "  <tbody>\n",
       "    <tr>\n",
       "      <th>count</th>\n",
       "      <td>1245.000000</td>\n",
       "      <td>1245.000000</td>\n",
       "      <td>1245.000000</td>\n",
       "    </tr>\n",
       "    <tr>\n",
       "      <th>mean</th>\n",
       "      <td>70.006426</td>\n",
       "      <td>17.221687</td>\n",
       "      <td>1.898795</td>\n",
       "    </tr>\n",
       "    <tr>\n",
       "      <th>std</th>\n",
       "      <td>53.525499</td>\n",
       "      <td>12.894103</td>\n",
       "      <td>1.374798</td>\n",
       "    </tr>\n",
       "    <tr>\n",
       "      <th>min</th>\n",
       "      <td>2.000000</td>\n",
       "      <td>1.000000</td>\n",
       "      <td>1.000000</td>\n",
       "    </tr>\n",
       "    <tr>\n",
       "      <th>25%</th>\n",
       "      <td>34.000000</td>\n",
       "      <td>9.000000</td>\n",
       "      <td>1.000000</td>\n",
       "    </tr>\n",
       "    <tr>\n",
       "      <th>50%</th>\n",
       "      <td>51.000000</td>\n",
       "      <td>13.000000</td>\n",
       "      <td>1.000000</td>\n",
       "    </tr>\n",
       "    <tr>\n",
       "      <th>75%</th>\n",
       "      <td>91.000000</td>\n",
       "      <td>22.000000</td>\n",
       "      <td>2.000000</td>\n",
       "    </tr>\n",
       "    <tr>\n",
       "      <th>max</th>\n",
       "      <td>461.000000</td>\n",
       "      <td>118.000000</td>\n",
       "      <td>14.000000</td>\n",
       "    </tr>\n",
       "  </tbody>\n",
       "</table>\n",
       "</div>"
      ],
      "text/plain": [
       "        characters          No.          no.\n",
       "count  1245.000000  1245.000000  1245.000000\n",
       "mean     70.006426    17.221687     1.898795\n",
       "std      53.525499    12.894103     1.374798\n",
       "min       2.000000     1.000000     1.000000\n",
       "25%      34.000000     9.000000     1.000000\n",
       "50%      51.000000    13.000000     1.000000\n",
       "75%      91.000000    22.000000     2.000000\n",
       "max     461.000000   118.000000    14.000000"
      ]
     },
     "execution_count": 538,
     "metadata": {},
     "output_type": "execute_result"
    }
   ],
   "source": [
    "f[f['result'] == 0][['characters','No.','no.']].describe() #for ham"
   ]
  },
  {
   "cell_type": "code",
   "execution_count": 539,
   "id": "4075ea2f",
   "metadata": {},
   "outputs": [
    {
     "data": {
      "text/html": [
       "<div>\n",
       "<style scoped>\n",
       "    .dataframe tbody tr th:only-of-type {\n",
       "        vertical-align: middle;\n",
       "    }\n",
       "\n",
       "    .dataframe tbody tr th {\n",
       "        vertical-align: top;\n",
       "    }\n",
       "\n",
       "    .dataframe thead th {\n",
       "        text-align: right;\n",
       "    }\n",
       "</style>\n",
       "<table border=\"1\" class=\"dataframe\">\n",
       "  <thead>\n",
       "    <tr style=\"text-align: right;\">\n",
       "      <th></th>\n",
       "      <th>characters</th>\n",
       "      <th>No.</th>\n",
       "      <th>no.</th>\n",
       "    </tr>\n",
       "  </thead>\n",
       "  <tbody>\n",
       "    <tr>\n",
       "      <th>count</th>\n",
       "      <td>542.000000</td>\n",
       "      <td>542.000000</td>\n",
       "      <td>542.000000</td>\n",
       "    </tr>\n",
       "    <tr>\n",
       "      <th>mean</th>\n",
       "      <td>104.263838</td>\n",
       "      <td>20.723247</td>\n",
       "      <td>2.029520</td>\n",
       "    </tr>\n",
       "    <tr>\n",
       "      <th>std</th>\n",
       "      <td>38.169126</td>\n",
       "      <td>8.072739</td>\n",
       "      <td>1.137114</td>\n",
       "    </tr>\n",
       "    <tr>\n",
       "      <th>min</th>\n",
       "      <td>40.000000</td>\n",
       "      <td>8.000000</td>\n",
       "      <td>1.000000</td>\n",
       "    </tr>\n",
       "    <tr>\n",
       "      <th>25%</th>\n",
       "      <td>65.000000</td>\n",
       "      <td>13.000000</td>\n",
       "      <td>1.000000</td>\n",
       "    </tr>\n",
       "    <tr>\n",
       "      <th>50%</th>\n",
       "      <td>112.000000</td>\n",
       "      <td>20.000000</td>\n",
       "      <td>2.000000</td>\n",
       "    </tr>\n",
       "    <tr>\n",
       "      <th>75%</th>\n",
       "      <td>136.000000</td>\n",
       "      <td>27.000000</td>\n",
       "      <td>2.000000</td>\n",
       "    </tr>\n",
       "    <tr>\n",
       "      <th>max</th>\n",
       "      <td>181.000000</td>\n",
       "      <td>44.000000</td>\n",
       "      <td>9.000000</td>\n",
       "    </tr>\n",
       "  </tbody>\n",
       "</table>\n",
       "</div>"
      ],
      "text/plain": [
       "       characters         No.         no.\n",
       "count  542.000000  542.000000  542.000000\n",
       "mean   104.263838   20.723247    2.029520\n",
       "std     38.169126    8.072739    1.137114\n",
       "min     40.000000    8.000000    1.000000\n",
       "25%     65.000000   13.000000    1.000000\n",
       "50%    112.000000   20.000000    2.000000\n",
       "75%    136.000000   27.000000    2.000000\n",
       "max    181.000000   44.000000    9.000000"
      ]
     },
     "execution_count": 539,
     "metadata": {},
     "output_type": "execute_result"
    }
   ],
   "source": [
    "f[f['result'] == 1][['characters','No.','no.']].describe() #for spam"
   ]
  },
  {
   "cell_type": "code",
   "execution_count": 540,
   "id": "25aefb3c",
   "metadata": {},
   "outputs": [
    {
     "data": {
      "text/plain": [
       "<Axes: xlabel='characters', ylabel='Count'>"
      ]
     },
     "execution_count": 540,
     "metadata": {},
     "output_type": "execute_result"
    },
    {
     "data": {
      "image/png": "[encoded data removed]",
      "text/plain": [
       "<Figure size 640x480 with 1 Axes>"
      ]
     },
     "metadata": {},
     "output_type": "display_data"
    }
   ],
   "source": [
    "sb.histplot(f[f['result'] == 1]['characters'],color = 'red')\n",
    "sb.histplot(f[f['result'] == 0]['characters'])"
   ]
  },
  {
   "cell_type": "code",
   "execution_count": 541,
   "id": "3456df33",
   "metadata": {},
   "outputs": [],
   "source": [
    "#pre processing \n",
    "#lowercase,tokenization,remove special character, remove stop words and punctuation, stemming"
   ]
  },
  {
   "cell_type": "code",
   "execution_count": 542,
   "id": "0946d6b1",
   "metadata": {},
   "outputs": [
    {
     "name": "stderr",
     "output_type": "stream",
     "text": [
      "[nltk_data] Downloading package stopwords to\n",
      "[nltk_data]     C:\\Users\\DELL\\AppData\\Roaming\\nltk_data...\n",
      "[nltk_data]   Package stopwords is already up-to-date!\n"
     ]
    },
    {
     "data": {
      "text/plain": [
       "True"
      ]
     },
     "execution_count": 542,
     "metadata": {},
     "output_type": "execute_result"
    }
   ],
   "source": [
    "import nltk\n",
    "nltk.download('stopwords')"
   ]
  },
  {
   "cell_type": "code",
   "execution_count": 543,
   "id": "5bddd21f",
   "metadata": {},
   "outputs": [
    {
     "data": {
      "text/plain": [
       "['i',\n",
       " 'me',\n",
       " 'my',\n",
       " 'myself',\n",
       " 'we',\n",
       " 'our',\n",
       " 'ours',\n",
       " 'ourselves',\n",
       " 'you',\n",
       " \"you're\",\n",
       " \"you've\",\n",
       " \"you'll\",\n",
       " \"you'd\",\n",
       " 'your',\n",
       " 'yours',\n",
       " 'yourself',\n",
       " 'yourselves',\n",
       " 'he',\n",
       " 'him',\n",
       " 'his',\n",
       " 'himself',\n",
       " 'she',\n",
       " \"she's\",\n",
       " 'her',\n",
       " 'hers',\n",
       " 'herself',\n",
       " 'it',\n",
       " \"it's\",\n",
       " 'its',\n",
       " 'itself',\n",
       " 'they',\n",
       " 'them',\n",
       " 'their',\n",
       " 'theirs',\n",
       " 'themselves',\n",
       " 'what',\n",
       " 'which',\n",
       " 'who',\n",
       " 'whom',\n",
       " 'this',\n",
       " 'that',\n",
       " \"that'll\",\n",
       " 'these',\n",
       " 'those',\n",
       " 'am',\n",
       " 'is',\n",
       " 'are',\n",
       " 'was',\n",
       " 'were',\n",
       " 'be',\n",
       " 'been',\n",
       " 'being',\n",
       " 'have',\n",
       " 'has',\n",
       " 'had',\n",
       " 'having',\n",
       " 'do',\n",
       " 'does',\n",
       " 'did',\n",
       " 'doing',\n",
       " 'a',\n",
       " 'an',\n",
       " 'the',\n",
       " 'and',\n",
       " 'but',\n",
       " 'if',\n",
       " 'or',\n",
       " 'because',\n",
       " 'as',\n",
       " 'until',\n",
       " 'while',\n",
       " 'of',\n",
       " 'at',\n",
       " 'by',\n",
       " 'for',\n",
       " 'with',\n",
       " 'about',\n",
       " 'against',\n",
       " 'between',\n",
       " 'into',\n",
       " 'through',\n",
       " 'during',\n",
       " 'before',\n",
       " 'after',\n",
       " 'above',\n",
       " 'below',\n",
       " 'to',\n",
       " 'from',\n",
       " 'up',\n",
       " 'down',\n",
       " 'in',\n",
       " 'out',\n",
       " 'on',\n",
       " 'off',\n",
       " 'over',\n",
       " 'under',\n",
       " 'again',\n",
       " 'further',\n",
       " 'then',\n",
       " 'once',\n",
       " 'here',\n",
       " 'there',\n",
       " 'when',\n",
       " 'where',\n",
       " 'why',\n",
       " 'how',\n",
       " 'all',\n",
       " 'any',\n",
       " 'both',\n",
       " 'each',\n",
       " 'few',\n",
       " 'more',\n",
       " 'most',\n",
       " 'other',\n",
       " 'some',\n",
       " 'such',\n",
       " 'no',\n",
       " 'nor',\n",
       " 'not',\n",
       " 'only',\n",
       " 'own',\n",
       " 'same',\n",
       " 'so',\n",
       " 'than',\n",
       " 'too',\n",
       " 'very',\n",
       " 's',\n",
       " 't',\n",
       " 'can',\n",
       " 'will',\n",
       " 'just',\n",
       " 'don',\n",
       " \"don't\",\n",
       " 'should',\n",
       " \"should've\",\n",
       " 'now',\n",
       " 'd',\n",
       " 'll',\n",
       " 'm',\n",
       " 'o',\n",
       " 're',\n",
       " 've',\n",
       " 'y',\n",
       " 'ain',\n",
       " 'aren',\n",
       " \"aren't\",\n",
       " 'couldn',\n",
       " \"couldn't\",\n",
       " 'didn',\n",
       " \"didn't\",\n",
       " 'doesn',\n",
       " \"doesn't\",\n",
       " 'hadn',\n",
       " \"hadn't\",\n",
       " 'hasn',\n",
       " \"hasn't\",\n",
       " 'haven',\n",
       " \"haven't\",\n",
       " 'isn',\n",
       " \"isn't\",\n",
       " 'ma',\n",
       " 'mightn',\n",
       " \"mightn't\",\n",
       " 'mustn',\n",
       " \"mustn't\",\n",
       " 'needn',\n",
       " \"needn't\",\n",
       " 'shan',\n",
       " \"shan't\",\n",
       " 'shouldn',\n",
       " \"shouldn't\",\n",
       " 'wasn',\n",
       " \"wasn't\",\n",
       " 'weren',\n",
       " \"weren't\",\n",
       " 'won',\n",
       " \"won't\",\n",
       " 'wouldn',\n",
       " \"wouldn't\"]"
      ]
     },
     "execution_count": 543,
     "metadata": {},
     "output_type": "execute_result"
    }
   ],
   "source": [
    "from nltk.corpus import stopwords\n",
    "stopwords.words('english') # stopwards = doesn't add much meaning to content"
   ]
  },
  {
   "cell_type": "code",
   "execution_count": 544,
   "id": "e1fe64a4",
   "metadata": {},
   "outputs": [
    {
     "data": {
      "text/plain": [
       "'!\"#$%&\\'()*+,-./:;<=>?@[\\\\]^_`{|}~'"
      ]
     },
     "execution_count": 544,
     "metadata": {},
     "output_type": "execute_result"
    }
   ],
   "source": [
    "import string\n",
    "string.punctuation"
   ]
  },
  {
   "cell_type": "code",
   "execution_count": 545,
   "id": "323d7de2",
   "metadata": {},
   "outputs": [],
   "source": [
    "from nltk.stem.porter import PorterStemmer # dances dancing sab ek hi consider hoga i.e uska simplest form\n",
    "ps=PorterStemmer()"
   ]
  },
  {
   "cell_type": "code",
   "execution_count": 546,
   "id": "0a9b55e6",
   "metadata": {},
   "outputs": [],
   "source": [
    "def transform_mail(mail):\n",
    "    mail=mail.lower() #lower case mai convert krne ke liye\n",
    "    mail=nltk.word_tokenize(mail)# list mai convert krne ke liye\n",
    "    y=[]\n",
    "    for i in mail:\n",
    "        if i.isalnum(): # function used use to check it is alphabet/number.\n",
    "            y.append(i)\n",
    "    mail=y[:] # ??\n",
    "    y.clear()\n",
    "    \n",
    "    for i in mail:\n",
    "        if i not in stopwords.words('english') and i not in string.punctuation:\n",
    "            y.append(i)\n",
    "    mail=y[:]\n",
    "    y.clear()\n",
    "    \n",
    "    for i in mail:\n",
    "        y.append(ps.stem(i))\n",
    "    return \" \".join(y) #string return ho rhi hai"
   ]
  },
  {
   "cell_type": "code",
   "execution_count": 547,
   "id": "f1b3daf6",
   "metadata": {},
   "outputs": [
    {
     "data": {
      "text/plain": [
       "'danc good exceris everyon'"
      ]
     },
     "execution_count": 547,
     "metadata": {},
     "output_type": "execute_result"
    }
   ],
   "source": [
    "transform_mail('dancing is a good excerise and everyone should do ###')"
   ]
  },
  {
   "cell_type": "code",
   "execution_count": 548,
   "id": "a2fb55e5",
   "metadata": {},
   "outputs": [
    {
     "data": {
      "text/plain": [
       "0       go jurong point crazi avail bugi n great world...\n",
       "1                                      dont know jabo abi\n",
       "2       ever notic drive anyon go slower idiot everyon...\n",
       "3       yet ya sapna aunti maneg hogidh chinnu full we...\n",
       "4                                               good babi\n",
       "                              ...                        \n",
       "2005    ir alert owe back tax immedi payment requir av...\n",
       "2006    comput infect download antiviru softwar offer ...\n",
       "2007    hurri limit stock avail buy one get one free d...\n",
       "2008    becom kitten whisper learn commun cat multipl ...\n",
       "2009    join societi alien danc instructor learn waltz...\n",
       "Name: mail, Length: 1787, dtype: object"
      ]
     },
     "execution_count": 548,
     "metadata": {},
     "output_type": "execute_result"
    }
   ],
   "source": [
    "f['mail'].apply(transform_mail)"
   ]
  },
  {
   "cell_type": "code",
   "execution_count": 549,
   "id": "6e51b2c6",
   "metadata": {},
   "outputs": [],
   "source": [
    "f['transformed']=f['mail'].apply(transform_mail)"
   ]
  },
  {
   "cell_type": "code",
   "execution_count": 550,
   "id": "91b3ee2d",
   "metadata": {},
   "outputs": [
    {
     "data": {
      "text/html": [
       "<div>\n",
       "<style scoped>\n",
       "    .dataframe tbody tr th:only-of-type {\n",
       "        vertical-align: middle;\n",
       "    }\n",
       "\n",
       "    .dataframe tbody tr th {\n",
       "        vertical-align: top;\n",
       "    }\n",
       "\n",
       "    .dataframe thead th {\n",
       "        text-align: right;\n",
       "    }\n",
       "</style>\n",
       "<table border=\"1\" class=\"dataframe\">\n",
       "  <thead>\n",
       "    <tr style=\"text-align: right;\">\n",
       "      <th></th>\n",
       "      <th>result</th>\n",
       "      <th>mail</th>\n",
       "      <th>Unnamed: 2</th>\n",
       "      <th>Unnamed: 3</th>\n",
       "      <th>Unnamed: 4</th>\n",
       "      <th>characters</th>\n",
       "      <th>words</th>\n",
       "      <th>No.</th>\n",
       "      <th>sentence</th>\n",
       "      <th>no.</th>\n",
       "      <th>transformed</th>\n",
       "    </tr>\n",
       "  </thead>\n",
       "  <tbody>\n",
       "    <tr>\n",
       "      <th>1589</th>\n",
       "      <td>1</td>\n",
       "      <td>Important message from the Tax Office: Click t...</td>\n",
       "      <td>NaN</td>\n",
       "      <td>NaN</td>\n",
       "      <td>NaN</td>\n",
       "      <td>68</td>\n",
       "      <td>[Important, message, from, the, Tax, Office, :...</td>\n",
       "      <td>14</td>\n",
       "      <td>[Important message from the Tax Office: Click ...</td>\n",
       "      <td>1</td>\n",
       "      <td>import messag tax offic click address tax issu</td>\n",
       "    </tr>\n",
       "    <tr>\n",
       "      <th>1617</th>\n",
       "      <td>1</td>\n",
       "      <td>Act fast to win big: Call to claim your $10,00...</td>\n",
       "      <td>NaN</td>\n",
       "      <td>NaN</td>\n",
       "      <td>NaN</td>\n",
       "      <td>59</td>\n",
       "      <td>[Act, fast, to, win, big, :, Call, to, claim, ...</td>\n",
       "      <td>15</td>\n",
       "      <td>[Act fast to win big: Call to claim your $10,0...</td>\n",
       "      <td>1</td>\n",
       "      <td>act fast win big call claim cash prize</td>\n",
       "    </tr>\n",
       "  </tbody>\n",
       "</table>\n",
       "</div>"
      ],
      "text/plain": [
       "      result                                               mail Unnamed: 2  \\\n",
       "1589       1  Important message from the Tax Office: Click t...        NaN   \n",
       "1617       1  Act fast to win big: Call to claim your $10,00...        NaN   \n",
       "\n",
       "     Unnamed: 3 Unnamed: 4  characters  \\\n",
       "1589        NaN        NaN          68   \n",
       "1617        NaN        NaN          59   \n",
       "\n",
       "                                                  words  No.  \\\n",
       "1589  [Important, message, from, the, Tax, Office, :...   14   \n",
       "1617  [Act, fast, to, win, big, :, Call, to, claim, ...   15   \n",
       "\n",
       "                                               sentence  no.  \\\n",
       "1589  [Important message from the Tax Office: Click ...    1   \n",
       "1617  [Act fast to win big: Call to claim your $10,0...    1   \n",
       "\n",
       "                                         transformed  \n",
       "1589  import messag tax offic click address tax issu  \n",
       "1617          act fast win big call claim cash prize  "
      ]
     },
     "execution_count": 550,
     "metadata": {},
     "output_type": "execute_result"
    }
   ],
   "source": [
    "f.sample(2)"
   ]
  },
  {
   "cell_type": "code",
   "execution_count": 551,
   "id": "009b1cbe",
   "metadata": {},
   "outputs": [],
   "source": [
    "from wordcloud import WordCloud\n",
    "wc = WordCloud(width=500,height=500,min_font_size=10,background_color='white')\n",
    "wc_a = wc.generate(f[f['result']==1]['transformed'].str.cat(sep=\" \"))"
   ]
  },
  {
   "cell_type": "code",
   "execution_count": 552,
   "id": "5fe359cb",
   "metadata": {},
   "outputs": [
    {
     "data": {
      "text/plain": [
       "<matplotlib.image.AxesImage at 0x1a807fa6d50>"
      ]
     },
     "execution_count": 552,
     "metadata": {},
     "output_type": "execute_result"
    },
    {
     "data": {
      "image/png": "[encoded data removed]",
      "text/plain": [
       "<Figure size 640x480 with 1 Axes>"
      ]
     },
     "metadata": {},
     "output_type": "display_data"
    }
   ],
   "source": [
    "pit.imshow(wc_a)"
   ]
  },
  {
   "cell_type": "code",
   "execution_count": 553,
   "id": "1ee9fe0b",
   "metadata": {},
   "outputs": [],
   "source": [
    "wc = WordCloud(width=500,height=500,min_font_size=10,background_color='white')\n",
    "wc_b = wc.generate(f[f['result']==0]['transformed'].str.cat(sep=\" \"))"
   ]
  },
  {
   "cell_type": "code",
   "execution_count": 554,
   "id": "53c1f857",
   "metadata": {},
   "outputs": [
    {
     "data": {
      "text/plain": [
       "<matplotlib.image.AxesImage at 0x1a807013f90>"
      ]
     },
     "execution_count": 554,
     "metadata": {},
     "output_type": "execute_result"
    },
    {
     "data": {
      "image/png": "[encoded data removed]",
      "text/plain": [
       "<Figure size 640x480 with 1 Axes>"
      ]
     },
     "metadata": {},
     "output_type": "display_data"
    }
   ],
   "source": [
    "pit.imshow(wc_b)"
   ]
  },
  {
   "cell_type": "code",
   "execution_count": 555,
   "id": "a949c71e",
   "metadata": {},
   "outputs": [],
   "source": [
    "spam_c = []\n",
    "for msg in f[f['result'] == 1]['transformed'].tolist():\n",
    "    for word in msg.split():\n",
    "        spam_c.append(word)"
   ]
  },
  {
   "cell_type": "code",
   "execution_count": 556,
   "id": "b198e64f",
   "metadata": {},
   "outputs": [
    {
     "data": {
      "text/plain": [
       "5639"
      ]
     },
     "execution_count": 556,
     "metadata": {},
     "output_type": "execute_result"
    }
   ],
   "source": [
    "len(spam_c)"
   ]
  },
  {
   "cell_type": "code",
   "execution_count": 557,
   "id": "55abe680",
   "metadata": {},
   "outputs": [
    {
     "data": {
      "text/plain": [
       "[('call', 200),\n",
       " ('click', 102),\n",
       " ('free', 98),\n",
       " ('claim', 72),\n",
       " ('account', 51),\n",
       " ('prize', 49),\n",
       " ('get', 43),\n",
       " ('2', 40),\n",
       " ('mobil', 38),\n",
       " ('txt', 35)]"
      ]
     },
     "execution_count": 557,
     "metadata": {},
     "output_type": "execute_result"
    }
   ],
   "source": [
    "from collections import Counter\n",
    "Counter(spam_c).most_common(10)"
   ]
  },
  {
   "cell_type": "code",
   "execution_count": 558,
   "id": "28b079f1",
   "metadata": {},
   "outputs": [],
   "source": [
    "ham_c = []\n",
    "for msg in f[f['result'] == 0]['transformed'].tolist():\n",
    "    for word in msg.split():\n",
    "        ham_c.append(word)"
   ]
  },
  {
   "cell_type": "code",
   "execution_count": 559,
   "id": "5c746d38",
   "metadata": {},
   "outputs": [
    {
     "data": {
      "text/plain": [
       "9725"
      ]
     },
     "execution_count": 559,
     "metadata": {},
     "output_type": "execute_result"
    }
   ],
   "source": [
    "len(ham_c)"
   ]
  },
  {
   "cell_type": "code",
   "execution_count": 560,
   "id": "35074b5d",
   "metadata": {},
   "outputs": [
    {
     "data": {
      "text/plain": [
       "[('u', 261),\n",
       " ('go', 107),\n",
       " ('2', 85),\n",
       " ('get', 85),\n",
       " ('come', 74),\n",
       " ('call', 73),\n",
       " ('gt', 72),\n",
       " ('lt', 70),\n",
       " ('ur', 70),\n",
       " ('know', 68)]"
      ]
     },
     "execution_count": 560,
     "metadata": {},
     "output_type": "execute_result"
    }
   ],
   "source": [
    "Counter(ham_c).most_common(10)"
   ]
  },
  {
   "cell_type": "code",
   "execution_count": 561,
   "id": "66c9295e",
   "metadata": {},
   "outputs": [],
   "source": [
    "#building ml model "
   ]
  },
  {
   "cell_type": "code",
   "execution_count": 562,
   "id": "83b790cd",
   "metadata": {},
   "outputs": [],
   "source": [
    "from sklearn.feature_extraction.text import CountVectorizer\n",
    "cv = CountVectorizer()"
   ]
  },
  {
   "cell_type": "code",
   "execution_count": 563,
   "id": "4f2e74a7",
   "metadata": {},
   "outputs": [],
   "source": [
    "X = cv.fit_transform(f['transformed']).toarray()"
   ]
  },
  {
   "cell_type": "code",
   "execution_count": 564,
   "id": "ccaf91c7",
   "metadata": {},
   "outputs": [
    {
     "data": {
      "text/plain": [
       "(1787, 3770)"
      ]
     },
     "execution_count": 564,
     "metadata": {},
     "output_type": "execute_result"
    }
   ],
   "source": [
    "X.shape #(sms,words)"
   ]
  },
  {
   "cell_type": "code",
   "execution_count": 565,
   "id": "1e3008aa",
   "metadata": {},
   "outputs": [],
   "source": [
    "Y = f['result'].values"
   ]
  },
  {
   "cell_type": "code",
   "execution_count": 566,
   "id": "3d36d557",
   "metadata": {},
   "outputs": [
    {
     "data": {
      "text/plain": [
       "array([0, 0, 1, ..., 1, 1, 1])"
      ]
     },
     "execution_count": 566,
     "metadata": {},
     "output_type": "execute_result"
    }
   ],
   "source": [
    "Y"
   ]
  },
  {
   "cell_type": "code",
   "execution_count": 567,
   "id": "0b3b1235",
   "metadata": {},
   "outputs": [],
   "source": [
    "from sklearn.model_selection import train_test_split"
   ]
  },
  {
   "cell_type": "code",
   "execution_count": 568,
   "id": "3dc5305a",
   "metadata": {},
   "outputs": [],
   "source": [
    "X_train,X_test,Y_train,Y_test = train_test_split(X,Y,test_size=0.4,random_state=2) #0.2 mtlb 20% for testing\n",
    "#random state to get same split everytime"
   ]
  },
  {
   "cell_type": "code",
   "execution_count": 569,
   "id": "b8c74d31",
   "metadata": {},
   "outputs": [],
   "source": [
    "from sklearn.naive_bayes import GaussianNB,MultinomialNB,BernoulliNB\n",
    "from sklearn.metrics import accuracy_score,confusion_matrix,precision_score"
   ]
  },
  {
   "cell_type": "code",
   "execution_count": 570,
   "id": "a0d44bf2",
   "metadata": {},
   "outputs": [],
   "source": [
    "gnb = GaussianNB()\n",
    "mnb = MultinomialNB()\n",
    "bnb = BernoulliNB()"
   ]
  },
  {
   "cell_type": "code",
   "execution_count": 571,
   "id": "9d1b38d1",
   "metadata": {},
   "outputs": [
    {
     "name": "stdout",
     "output_type": "stream",
     "text": [
      "0.8727272727272727\n",
      "[[405  77]\n",
      " [ 14 219]]\n",
      "0.7398648648648649\n"
     ]
    }
   ],
   "source": [
    "gnb.fit(X_train,Y_train)\n",
    "Y_pred1 = gnb.predict(X_test)\n",
    "print(accuracy_score(Y_test,Y_pred1))\n",
    "print(confusion_matrix(Y_test,Y_pred1))\n",
    "print(precision_score(Y_test,Y_pred1)) # accuracy .88 ,matrix,precision .53"
   ]
  },
  {
   "cell_type": "code",
   "execution_count": 572,
   "id": "8fd837ce",
   "metadata": {},
   "outputs": [
    {
     "name": "stdout",
     "output_type": "stream",
     "text": [
      "0.951048951048951\n",
      "[[461  21]\n",
      " [ 14 219]]\n",
      "0.9125\n"
     ]
    }
   ],
   "source": [
    "mnb.fit(X_train,Y_train)\n",
    "Y_pred2 = mnb.predict(X_test)\n",
    "print(accuracy_score(Y_test,Y_pred2))\n",
    "print(confusion_matrix(Y_test,Y_pred2))\n",
    "print(precision_score(Y_test,Y_pred2))  # accuracy .96 ,matrix,precision .83"
   ]
  },
  {
   "cell_type": "code",
   "execution_count": 573,
   "id": "684d2b8f",
   "metadata": {},
   "outputs": [
    {
     "name": "stdout",
     "output_type": "stream",
     "text": [
      "0.9174825174825175\n",
      "[[481   1]\n",
      " [ 58 175]]\n",
      "0.9943181818181818\n"
     ]
    }
   ],
   "source": [
    "bnb.fit(X_train,Y_train)\n",
    "Y_pred3 = bnb.predict(X_test)\n",
    "print(accuracy_score(Y_test,Y_pred3))\n",
    "print(confusion_matrix(Y_test,Y_pred3))\n",
    "print(precision_score(Y_test,Y_pred3))  # accuracy .97 ,matrix,precision .97"
   ]
  },
  {
   "cell_type": "code",
   "execution_count": 574,
   "id": "45a0cb43",
   "metadata": {},
   "outputs": [],
   "source": [
    "from sklearn.feature_extraction.text import TfidfVectorizer\n",
    "tfidf = TfidfVectorizer()"
   ]
  },
  {
   "cell_type": "code",
   "execution_count": 575,
   "id": "2b5f5ce6",
   "metadata": {},
   "outputs": [],
   "source": [
    "X = tfidf.fit_transform(f['transformed']).toarray()"
   ]
  },
  {
   "cell_type": "code",
   "execution_count": 576,
   "id": "a1a72e26",
   "metadata": {},
   "outputs": [
    {
     "data": {
      "text/plain": [
       "(1787, 3770)"
      ]
     },
     "execution_count": 576,
     "metadata": {},
     "output_type": "execute_result"
    }
   ],
   "source": [
    "X.shape #(sms,words)"
   ]
  },
  {
   "cell_type": "code",
   "execution_count": 577,
   "id": "7dec594c",
   "metadata": {},
   "outputs": [],
   "source": [
    "Y = f['result'].values"
   ]
  },
  {
   "cell_type": "code",
   "execution_count": 578,
   "id": "a8d77bf5",
   "metadata": {},
   "outputs": [
    {
     "data": {
      "text/plain": [
       "array([0, 0, 1, ..., 1, 1, 1])"
      ]
     },
     "execution_count": 578,
     "metadata": {},
     "output_type": "execute_result"
    }
   ],
   "source": [
    "Y"
   ]
  },
  {
   "cell_type": "code",
   "execution_count": 579,
   "id": "d277e688",
   "metadata": {},
   "outputs": [],
   "source": [
    "from sklearn.model_selection import train_test_split"
   ]
  },
  {
   "cell_type": "code",
   "execution_count": 580,
   "id": "2cb70aa4",
   "metadata": {},
   "outputs": [],
   "source": [
    "from sklearn.naive_bayes import GaussianNB,MultinomialNB,BernoulliNB\n",
    "from sklearn.metrics import accuracy_score,confusion_matrix,precision_score"
   ]
  },
  {
   "cell_type": "code",
   "execution_count": 581,
   "id": "71643b03",
   "metadata": {},
   "outputs": [],
   "source": [
    "gnb = GaussianNB()\n",
    "mnb = MultinomialNB()\n",
    "bnb = BernoulliNB()"
   ]
  },
  {
   "cell_type": "code",
   "execution_count": 582,
   "id": "6c0fc47a",
   "metadata": {},
   "outputs": [
    {
     "name": "stdout",
     "output_type": "stream",
     "text": [
      "0.8727272727272727\n",
      "[[405  77]\n",
      " [ 14 219]]\n",
      "0.7398648648648649\n"
     ]
    }
   ],
   "source": [
    "gnb.fit(X_train,Y_train)\n",
    "Y_pred1 = gnb.predict(X_test)\n",
    "print(accuracy_score(Y_test,Y_pred1))\n",
    "print(confusion_matrix(Y_test,Y_pred1))\n",
    "print(precision_score(Y_test,Y_pred1))"
   ]
  },
  {
   "cell_type": "code",
   "execution_count": 583,
   "id": "aa934611",
   "metadata": {},
   "outputs": [
    {
     "name": "stdout",
     "output_type": "stream",
     "text": [
      "0.951048951048951\n",
      "[[461  21]\n",
      " [ 14 219]]\n",
      "0.9125\n"
     ]
    }
   ],
   "source": [
    "mnb.fit(X_train,Y_train)\n",
    "Y_pred2 = mnb.predict(X_test)\n",
    "print(accuracy_score(Y_test,Y_pred2))\n",
    "print(confusion_matrix(Y_test,Y_pred2))\n",
    "print(precision_score(Y_test,Y_pred2))"
   ]
  },
  {
   "cell_type": "code",
   "execution_count": 584,
   "id": "f888f330",
   "metadata": {},
   "outputs": [
    {
     "name": "stdout",
     "output_type": "stream",
     "text": [
      "0.8727272727272727\n",
      "[[405  77]\n",
      " [ 14 219]]\n",
      "0.7398648648648649\n"
     ]
    }
   ],
   "source": [
    "bnb.fit(X_train,Y_train)\n",
    "Y_pred3 = gnb.predict(X_test)\n",
    "print(accuracy_score(Y_test,Y_pred3))\n",
    "print(confusion_matrix(Y_test,Y_pred3))\n",
    "print(precision_score(Y_test,Y_pred3))                       "
   ]
  },
  {
   "cell_type": "code",
   "execution_count": 585,
   "id": "0be0edfa",
   "metadata": {},
   "outputs": [],
   "source": [
    "import pickle\n",
    "pickle.dump(tfidf,open('vectorizer.pkl','wb'))\n",
    "pickle.dump(mnb,open('model.pkl','wb'))"
   ]
  }
 ],
 "metadata": {
  "kernelspec": {
   "display_name": "Python 3 (ipykernel)",
   "language": "python",
   "name": "python3"
  },
  "language_info": {
   "codemirror_mode": {
    "name": "ipython",
    "version": 3
   },
   "file_extension": ".py",
   "mimetype": "text/x-python",
   "name": "python",
   "nbconvert_exporter": "python",
   "pygments_lexer": "ipython3",
   "version": "3.11.5"
  }
 },
 "nbformat": 4,
 "nbformat_minor": 5
}
